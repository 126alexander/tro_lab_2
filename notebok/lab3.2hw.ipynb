{
 "cells": [
  {
   "cell_type": "markdown",
   "metadata": {},
   "source": [
    "# Лабораторная работа 3.2. Домашнее задание"
   ]
  },
  {
   "cell_type": "markdown",
   "metadata": {},
   "source": [
    "### Задание №1"
   ]
  },
  {
   "cell_type": "markdown",
   "metadata": {},
   "source": [
    "Создайте два массива: в первом должны быть четные числа от 2 до 12 включительно, а в другом числа 7, 11, 15, 18, 23, 29."
   ]
  },
  {
   "cell_type": "markdown",
   "metadata": {},
   "source": [
    "$1.$ Сложите массивы и возведите элементы получившегося массива в квадрат:"
   ]
  },
  {
   "cell_type": "code",
   "execution_count": 11,
   "metadata": {
    "jupyter": {
     "outputs_hidden": true
    }
   },
   "outputs": [],
   "source": [
    "import numpy as np"
   ]
  },
  {
   "cell_type": "code",
   "execution_count": 12,
   "metadata": {},
   "outputs": [
    {
     "name": "stdout",
     "output_type": "stream",
     "text": [
      "[ 2  4  6  8 10 12]\n",
      "[ 7 11 15 18 23 29]\n"
     ]
    }
   ],
   "source": [
    "a = np.arange(2, 13, 2)\n",
    "b = np.array([7, 11, 15, 18, 23, 29])\n",
    "print(a)\n",
    "print(b)"
   ]
  },
  {
   "cell_type": "markdown",
   "metadata": {},
   "source": [
    "$2.$ Выведите все элементы из первого массива, индексы которых соответствуют индексам тех элементов второго массива, которые больше 12 и дают остаток 3 при делении на 5."
   ]
  },
  {
   "cell_type": "code",
   "execution_count": 13,
   "metadata": {
    "jupyter": {
     "outputs_hidden": true
    },
    "scrolled": true
   },
   "outputs": [
    {
     "data": {
      "text/plain": [
       "array([ 8, 10])"
      ]
     },
     "execution_count": 13,
     "metadata": {},
     "output_type": "execute_result"
    }
   ],
   "source": [
    "loc = np.logical_and(b > 12, b % 5 == 3)\n",
    "a[loc]"
   ]
  },
  {
   "cell_type": "markdown",
   "metadata": {},
   "source": [
    "$3.$ Проверьте условие \"Элементы первого массива делятся на 4, элементы второго массива меньше 14\". (Подсказка: в результате должен получиться массив с True и False)"
   ]
  },
  {
   "cell_type": "code",
   "execution_count": 14,
   "metadata": {},
   "outputs": [
    {
     "name": "stdout",
     "output_type": "stream",
     "text": [
      "[ True  True False  True False  True]\n"
     ]
    }
   ],
   "source": [
    "log1 = a % 4 == 0\n",
    "log2 = b < 14\n",
    "print(log1 + log2)"
   ]
  },
  {
   "cell_type": "markdown",
   "metadata": {},
   "source": [
    "### Задание №2"
   ]
  },
  {
   "cell_type": "markdown",
   "metadata": {},
   "source": [
    "* Найдите интересный для вас датасет. Например, можно выбрать датасет тут. http://data.un.org/Explorer.aspx (выбираете датасет, жмете на view data, потом download, выбирайте csv формат)\n",
    "* Рассчитайте подходящие описательные статистики для признаков объектов в выбранном датасете\n",
    "* Проанализируйте и прокомментируйте содержательно получившиеся результаты\n",
    "* Все комментарии оформляйте строго в ячейках формата markdown\n",
    "    "
   ]
  },
  {
   "cell_type": "code",
   "execution_count": 1,
   "metadata": {
    "jupyter": {
     "outputs_hidden": true
    }
   },
   "outputs": [
    {
     "name": "stdout",
     "output_type": "stream",
     "text": [
      "Общий:\n",
      "\tСтрана или область:\n",
      "\t   количесво страна: 11\n",
      "\n",
      "\tГод:\n",
      "\t   от: 1992  до: 2019\n",
      "\n",
      "\tТовар:\n",
      "\t   \"ALL COMMODITIES\" (кол.) =  499\n",
      "\n",
      "\tПоток: ['Export' 'Import' 'Re-Export' 'Re-Import']\n",
      "\n",
      "\tТорговля (долл. США):\n",
      "\t   сумма: 10524679880320.248 кг.\n",
      "\t   минимальный: 392.00 кг.\n",
      "\t   максимальный: 269423385464.00 кг.\n",
      "\t   cреднее арифметическое значений: 21091542846.33 кг.\n",
      "\t   cтандартное отклонение: 48600048470.16132 кг.\n",
      "\t   дисперсия значений: 2361964711302029901824.00 кг.\n",
      "\n",
      "\tВес (кг): 0\n",
      "\n",
      "\tНазвание количества:\n",
      "\t   \"No Quantity (кол.)\" = 499\n",
      "\n",
      "\tКоличество (кг): 0\n"
     ]
    }
   ],
   "source": [
    "import os.path\n",
    "import numpy as np\n",
    "import csv\n",
    "\n",
    "file_csv = './UNdata_Export_20220403_173018777.csv'\n",
    "\n",
    "if os.path.isfile(file_csv):\n",
    "    # Load file\n",
    "    data = np.array([])\n",
    "    with open(file_csv, newline='') as csvfile:\n",
    "        # Данных структура\n",
    "        data = {\n",
    "            \"CountryOrArea\" : np.array([]),\n",
    "            \"Year\" : np.array([], dtype=np.int32),\n",
    "            \"Commodity\" : np.array([]),\n",
    "            \"Flow\" : np.array([]),\n",
    "            \"TradeUSD\" : np.array([]),\n",
    "            \"WeightKg\" : np.array([]),\n",
    "            \"QuantityName\" : np.array([]),\n",
    "            \"Quantitykg\" : np.array([]),\n",
    "        }\n",
    "        \n",
    "        ldata = list(csv.reader(csvfile))\n",
    "        \n",
    "        for line in ldata[1:500]:\n",
    "            data[\"CountryOrArea\"] = np.append(data[\"CountryOrArea\"], line[0])\n",
    "            data[\"Year\"] = np.append(data[\"Year\"], int(line[1]))\n",
    "            data[\"Commodity\"] = np.append(data[\"Commodity\"], line[2])\n",
    "            data[\"Flow\"] = np.append(data[\"Flow\"], line[3])\n",
    "            data[\"TradeUSD\"] = np.append(data[\"TradeUSD\"], float(line[4]))\n",
    "            data[\"WeightKg\"] = np.append(data[\"WeightKg\"], line[5])\n",
    "            data[\"QuantityName\"] = np.append(data[\"QuantityName\"], line[6])\n",
    "            data[\"Quantitykg\"] = np.append(data[\"Quantitykg\"], line[7])\n",
    "            \n",
    "        ldata = None\n",
    "else:\n",
    "    print(\"Not found file:\", file_csv)\n",
    "    \n",
    "print(\"Общий:\")\n",
    "print(\"\\tСтрана или область:\")\n",
    "print(\"\\t   количесво страна:\", len(np.unique(data[\"CountryOrArea\"])))\n",
    "print()\n",
    "\n",
    "print(\"\\tГод:\")\n",
    "print(\"\\t   от:\", np.min(data[\"Year\"]), \" до:\", np.max(data[\"Year\"]))\n",
    "print()\n",
    "\n",
    "print(\"\\tТовар:\") # \n",
    "print(\"\\t   \\\"ALL COMMODITIES\\\" (кол.) = \", len(data[\"Commodity\"]))\n",
    "print()\n",
    "\n",
    "print(\"\\tПоток:\", np.unique(data[\"Flow\"]))\n",
    "print()\n",
    "\n",
    "print(\"\\tТорговля (долл. США):\")\n",
    "print(\"\\t   сумма:\", np.sum(data[\"TradeUSD\"]), \"кг.\")\n",
    "print(\"\\t   минимальный:\", \"%.2f\" % np.min(data[\"TradeUSD\"]), \"кг.\")\n",
    "print(\"\\t   максимальный:\", \"%.2f\" % np.max(data[\"TradeUSD\"]), \"кг.\")\n",
    "print(\"\\t   cреднее арифметическое значений:\", \"%.2f\" % np.mean(data[\"TradeUSD\"]), \"кг.\")\n",
    "print(\"\\t   cтандартное отклонение:\", np.std(data[\"TradeUSD\"]), \"кг.\")\n",
    "print(\"\\t   дисперсия значений:\", \"%.2f\" % np.var(data[\"TradeUSD\"]), \"кг.\")\n",
    "print()\n",
    "\n",
    "print(\"\\tВес (кг): 0\")\n",
    "print()\n",
    "\n",
    "print(\"\\tНазвание количества:\")\n",
    "print(\"\\t   \\\"No Quantity (кол.)\\\" =\", len(data[\"QuantityName\"]))\n",
    "print()\n",
    " \n",
    "print(\"\\tКоличество (кг): 0\")    "
   ]
  },
  {
   "cell_type": "code",
   "execution_count": null,
   "metadata": {},
   "outputs": [],
   "source": []
  }
 ],
 "metadata": {
  "kernelspec": {
   "display_name": "Python 3",
   "language": "python",
   "name": "python3"
  },
  "language_info": {
   "codemirror_mode": {
    "name": "ipython",
    "version": 3
   },
   "file_extension": ".py",
   "mimetype": "text/x-python",
   "name": "python",
   "nbconvert_exporter": "python",
   "pygments_lexer": "ipython3",
   "version": "3.8.10"
  }
 },
 "nbformat": 4,
 "nbformat_minor": 4
}
