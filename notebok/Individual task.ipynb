{
 "cells": [
  {
   "cell_type": "code",
   "execution_count": 106,
   "metadata": {},
   "outputs": [
    {
     "name": "stdout",
     "output_type": "stream",
     "text": [
      "mass = \n",
      " [[3 5 6]\n",
      " [0 1 0]\n",
      " [8 5 2]] \n",
      "\n",
      "\t1) количество строк, не содержащих ни одного нулевого элемента: 2\n",
      "\t2) максимальное из чисел, встречающихся в заданной матрице более одного раза: 8\n"
     ]
    }
   ],
   "source": [
    "import numpy as np\n",
    "import heapq as hq\n",
    "\n",
    "# Дана целочисленная прямоугольная матрица. Определить:\n",
    "#    количество строк, не содержащих ни одного нулевого элемента;\n",
    "#    максимальное из чисел, встречающихся в заданной матрице более одного раза\n",
    "\n",
    "mass = [ \n",
    "[3, 5 ,6],\n",
    "[0, 1, 0],\n",
    "[8, 5, 2]]\n",
    "\n",
    "np_mass = np.array(mass) #NumPy - Array\n",
    "\n",
    "print(\"mass = \\n\", np_mass, \"\\n\")\n",
    "print(\"\\t1) количество строк, не содержащих ни одного нулевого элемента:\", np.sum(np.all(np_mass != 0, axis=1)) )\n",
    "print(\"\\t2) максимальное из чисел, встречающихся в заданной матрице более одного раза:\", np.max(np_mass))"
   ]
  }
 ],
 "metadata": {
  "kernelspec": {
   "display_name": "Python 3",
   "language": "python",
   "name": "python3"
  },
  "language_info": {
   "codemirror_mode": {
    "name": "ipython",
    "version": 3
   },
   "file_extension": ".py",
   "mimetype": "text/x-python",
   "name": "python",
   "nbconvert_exporter": "python",
   "pygments_lexer": "ipython3",
   "version": "3.8.10"
  }
 },
 "nbformat": 4,
 "nbformat_minor": 4
}
